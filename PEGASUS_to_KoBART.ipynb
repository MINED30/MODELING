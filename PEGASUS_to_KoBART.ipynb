{
  "nbformat": 4,
  "nbformat_minor": 0,
  "metadata": {
    "colab": {
      "name": "PEGASUS_to_KoBART.ipynb",
      "provenance": [],
      "toc_visible": true,
      "mount_file_id": "1KJqiOmbzmT7YZfa6TGN0Kg7yY5f-FhbF",
      "authorship_tag": "ABX9TyOYoLQ81l6svBub+sb37KPV",
      "include_colab_link": true
    },
    "kernelspec": {
      "name": "python3",
      "display_name": "Python 3"
    },
    "language_info": {
      "name": "python"
    }
  },
  "cells": [
    {
      "cell_type": "markdown",
      "metadata": {
        "id": "view-in-github",
        "colab_type": "text"
      },
      "source": [
        "<a href=\"https://colab.research.google.com/github/MINED30/MODELING/blob/main/PEGASUS_to_KoBART.ipynb\" target=\"_parent\"><img src=\"https://colab.research.google.com/assets/colab-badge.svg\" alt=\"Open In Colab\"/></a>"
      ]
    },
    {
      "cell_type": "markdown",
      "metadata": {
        "id": "C910t3Eb00bK"
      },
      "source": [
        "# Pre"
      ]
    },
    {
      "cell_type": "markdown",
      "metadata": {
        "id": "QzFs48uA1A1B"
      },
      "source": [
        "### Load Data"
      ]
    },
    {
      "cell_type": "code",
      "metadata": {
        "id": "MVUx_vSJ0gRq"
      },
      "source": [
        "# imports\n",
        "!pip install transformers\n",
        "!pip install hanja\n",
        "import os\n",
        "import random\n",
        "import json\n",
        "import re\n",
        "\n",
        "import matplotlib.pyplot as plt\n",
        "import pandas as pd\n",
        "import numpy as np\n",
        "\n",
        "from tqdm.notebook import tqdm, trange"
      ],
      "execution_count": null,
      "outputs": []
    },
    {
      "cell_type": "code",
      "metadata": {
        "id": "t2xPu4Gq0irv"
      },
      "source": [
        "import glob\n",
        "list_dir = glob.glob(\"/content/drive/MyDrive/국회회의록/*.xlsx\")[:3]\n",
        "\n",
        "data = []\n",
        "for i in range(len(list_dir)):\n",
        "    sample_df = pd.read_excel(list_dir[i], sheet_name=None, skiprows=2)\n",
        "    data.append(sample_df) #dictionary 객체 리스트\n",
        "\n",
        "processed = []\n",
        "for d in data:\n",
        "    concat_df = pd.concat(d, ignore_index=True)\n",
        "    processed.append(concat_df)\n",
        "\n",
        "total_df = pd.concat(processed, ignore_index=True)\n",
        "total_df"
      ],
      "execution_count": null,
      "outputs": []
    },
    {
      "cell_type": "markdown",
      "metadata": {
        "id": "3foeqWcR1Td0"
      },
      "source": [
        "### Preprocessing"
      ]
    },
    {
      "cell_type": "code",
      "metadata": {
        "colab": {
          "base_uri": "https://localhost:8080/",
          "height": 717
        },
        "id": "U6gdGGOu1LPi",
        "outputId": "25dca3e7-e05e-40c4-d00d-ac07ae3cedbe"
      },
      "source": [
        "df_g = total_df[~total_df['발언내용'].isna()]\n",
        "df_g['구분'] = df_g['대수'].apply(lambda x : str(x)+'대')+' '+df_g['회수'].apply(lambda x : x.split('(')[0])+' '+df_g['위원회']+' '+df_g['차수'].apply(lambda x : x.split('(')[0]) +' '+ df_g['회의구분']+' '+df_g['안건']\n",
        "df_gg = df_g[['구분','발언내용']].reset_index(drop=True)\n",
        "df_gg"
      ],
      "execution_count": 5,
      "outputs": [
        {
          "output_type": "stream",
          "name": "stderr",
          "text": [
            "/usr/local/lib/python3.7/dist-packages/ipykernel_launcher.py:2: SettingWithCopyWarning: \n",
            "A value is trying to be set on a copy of a slice from a DataFrame.\n",
            "Try using .loc[row_indexer,col_indexer] = value instead\n",
            "\n",
            "See the caveats in the documentation: https://pandas.pydata.org/pandas-docs/stable/user_guide/indexing.html#returning-a-view-versus-a-copy\n",
            "  \n"
          ]
        },
        {
          "output_type": "execute_result",
          "data": {
            "text/html": [
              "<div>\n",
              "<style scoped>\n",
              "    .dataframe tbody tr th:only-of-type {\n",
              "        vertical-align: middle;\n",
              "    }\n",
              "\n",
              "    .dataframe tbody tr th {\n",
              "        vertical-align: top;\n",
              "    }\n",
              "\n",
              "    .dataframe thead th {\n",
              "        text-align: right;\n",
              "    }\n",
              "</style>\n",
              "<table border=\"1\" class=\"dataframe\">\n",
              "  <thead>\n",
              "    <tr style=\"text-align: right;\">\n",
              "      <th></th>\n",
              "      <th>구분</th>\n",
              "      <th>발언내용</th>\n",
              "    </tr>\n",
              "  </thead>\n",
              "  <tbody>\n",
              "    <tr>\n",
              "      <th>0</th>\n",
              "      <td>17대 제250회 국회본회의 제10차 본회의 개의</td>\n",
              "      <td>의석을 정돈해 주시기 바랍니다.  성원이 되었으므로 제10차 본회의를 개의하겠습니다...</td>\n",
              "    </tr>\n",
              "    <tr>\n",
              "      <th>1</th>\n",
              "      <td>17대 제250회 국회본회의 제10차 본회의 개의</td>\n",
              "      <td>보고사항을 말씀드리겠습니다.(보고사항은 끝에 실음)</td>\n",
              "    </tr>\n",
              "    <tr>\n",
              "      <th>2</th>\n",
              "      <td>17대 제250회 국회본회의 제10차 본회의 o 위문금갹출의건(의장 제의)</td>\n",
              "      <td>의사일정에 들어가기 전에 위문금갹출의건을 의결하고자 합니다.  매년 연말이면 우리 ...</td>\n",
              "    </tr>\n",
              "    <tr>\n",
              "      <th>3</th>\n",
              "      <td>17대 제250회 국회본회의 제10차 본회의 2. 경제에관한질문</td>\n",
              "      <td>의사일정 제2항 경제에관한질문을 상정합니다.   오늘 질문하실 의원은 모두 열여덟 ...</td>\n",
              "    </tr>\n",
              "    <tr>\n",
              "      <th>4</th>\n",
              "      <td>17대 제250회 국회본회의 제10차 본회의 2. 경제에관한질문</td>\n",
              "      <td>존경하는 김원기 국회의장님을 비롯한 여야 의원 여러분!  그리고 이해찬 국무총리를 ...</td>\n",
              "    </tr>\n",
              "    <tr>\n",
              "      <th>...</th>\n",
              "      <td>...</td>\n",
              "      <td>...</td>\n",
              "    </tr>\n",
              "    <tr>\n",
              "      <th>7759</th>\n",
              "      <td>21대 제389회 교육위원회 제1차 상임위원회 1. 2021년도 제2회 추가경정예산...</td>\n",
              "      <td>김철민 위원님 수고하셨습니다. 더 이상 토론하실 위원님들이 안 계시므로 대체토론을 ...</td>\n",
              "    </tr>\n",
              "    <tr>\n",
              "      <th>7760</th>\n",
              "      <td>21대 제389회 교육위원회 제1차 상임위원회 1. 2021년도 제2회 추가경정예산...</td>\n",
              "      <td>위원장님, 잠깐 회의 마치기 전에 정청래 위원님 앞서 질의에 답변드리면서 단국대 감...</td>\n",
              "    </tr>\n",
              "    <tr>\n",
              "      <th>7761</th>\n",
              "      <td>21대 제389회 교육위원회 제1차 상임위원회 1. 2021년도 제2회 추가경정예산...</td>\n",
              "      <td>글쎄요, 저도 진행 중인 것으로 아는데 아까 그렇게 말씀을 하셔서……</td>\n",
              "    </tr>\n",
              "    <tr>\n",
              "      <th>7762</th>\n",
              "      <td>21대 제389회 교육위원회 제1차 상임위원회 1. 2021년도 제2회 추가경정예산...</td>\n",
              "      <td>감사는 완료가 됐고요, 3월에. 저희가 감사를 하고 나면 그 감사에 대한 심의를 진...</td>\n",
              "    </tr>\n",
              "    <tr>\n",
              "      <th>7763</th>\n",
              "      <td>21대 제389회 교육위원회 제1차 상임위원회 1. 2021년도 제2회 추가경정예산...</td>\n",
              "      <td>예. 이상으로 오늘 회의를 마치겠습니다. 위원님 여러분 그리고 유은혜 장관님을 비롯...</td>\n",
              "    </tr>\n",
              "  </tbody>\n",
              "</table>\n",
              "<p>7764 rows × 2 columns</p>\n",
              "</div>"
            ],
            "text/plain": [
              "                                                     구분                                               발언내용\n",
              "0                           17대 제250회 국회본회의 제10차 본회의 개의  의석을 정돈해 주시기 바랍니다.  성원이 되었으므로 제10차 본회의를 개의하겠습니다...\n",
              "1                           17대 제250회 국회본회의 제10차 본회의 개의                       보고사항을 말씀드리겠습니다.(보고사항은 끝에 실음)\n",
              "2             17대 제250회 국회본회의 제10차 본회의 o 위문금갹출의건(의장 제의)  의사일정에 들어가기 전에 위문금갹출의건을 의결하고자 합니다.  매년 연말이면 우리 ...\n",
              "3                   17대 제250회 국회본회의 제10차 본회의 2. 경제에관한질문  의사일정 제2항 경제에관한질문을 상정합니다.   오늘 질문하실 의원은 모두 열여덟 ...\n",
              "4                   17대 제250회 국회본회의 제10차 본회의 2. 경제에관한질문  존경하는 김원기 국회의장님을 비롯한 여야 의원 여러분!  그리고 이해찬 국무총리를 ...\n",
              "...                                                 ...                                                ...\n",
              "7759  21대 제389회 교육위원회 제1차 상임위원회 1. 2021년도 제2회 추가경정예산...  김철민 위원님 수고하셨습니다. 더 이상 토론하실 위원님들이 안 계시므로 대체토론을 ...\n",
              "7760  21대 제389회 교육위원회 제1차 상임위원회 1. 2021년도 제2회 추가경정예산...  위원장님, 잠깐 회의 마치기 전에 정청래 위원님 앞서 질의에 답변드리면서 단국대 감...\n",
              "7761  21대 제389회 교육위원회 제1차 상임위원회 1. 2021년도 제2회 추가경정예산...             글쎄요, 저도 진행 중인 것으로 아는데 아까 그렇게 말씀을 하셔서……\n",
              "7762  21대 제389회 교육위원회 제1차 상임위원회 1. 2021년도 제2회 추가경정예산...  감사는 완료가 됐고요, 3월에. 저희가 감사를 하고 나면 그 감사에 대한 심의를 진...\n",
              "7763  21대 제389회 교육위원회 제1차 상임위원회 1. 2021년도 제2회 추가경정예산...  예. 이상으로 오늘 회의를 마치겠습니다. 위원님 여러분 그리고 유은혜 장관님을 비롯...\n",
              "\n",
              "[7764 rows x 2 columns]"
            ]
          },
          "metadata": {},
          "execution_count": 5
        }
      ]
    },
    {
      "cell_type": "code",
      "metadata": {
        "colab": {
          "base_uri": "https://localhost:8080/"
        },
        "id": "cLtBTu191RpM",
        "outputId": "678dbb75-baa1-47d5-eb2d-6d807c15cf87"
      },
      "source": [
        "# 구분 (안건기준)\n",
        "\n",
        "from tqdm import tqdm\n",
        "국회회의록 = {\"title\":[],\"context\":[]}\n",
        "\n",
        "u = df_gg['구분'].unique()\n",
        "for i in tqdm(range(len(u))):\n",
        "  국회회의록['context'].append(' '.join(df_gg[df_gg['구분']==u[i]]['발언내용']))\n",
        "  국회회의록['title'].append(u[i])\n",
        "df_final = pd.DataFrame(국회회의록)"
      ],
      "execution_count": 9,
      "outputs": [
        {
          "output_type": "stream",
          "name": "stderr",
          "text": [
            "100%|██████████| 176/176 [00:00<00:00, 928.99it/s]\n"
          ]
        }
      ]
    },
    {
      "cell_type": "code",
      "metadata": {
        "colab": {
          "base_uri": "https://localhost:8080/",
          "height": 965
        },
        "id": "5o4TSzhs1fMa",
        "outputId": "a2b17ac7-0808-41d6-ac54-afd418888ebc"
      },
      "source": [
        "import hanja\n",
        "def to_hangul(text):\n",
        "    return hanja.translate(text, 'substitution')\n",
        "\n",
        "tqdm.pandas()\n",
        "\n",
        "df_final['context_r'] = df_final['context'].progress_apply(to_hangul)\n",
        "df_final['title_r'] = df_final['title'].progress_apply(to_hangul)\n",
        "df_final"
      ],
      "execution_count": 10,
      "outputs": [
        {
          "output_type": "stream",
          "name": "stderr",
          "text": [
            "100%|██████████| 176/176 [00:06<00:00, 27.56it/s]\n",
            "100%|██████████| 176/176 [00:00<00:00, 3128.76it/s]\n"
          ]
        },
        {
          "output_type": "execute_result",
          "data": {
            "text/html": [
              "<div>\n",
              "<style scoped>\n",
              "    .dataframe tbody tr th:only-of-type {\n",
              "        vertical-align: middle;\n",
              "    }\n",
              "\n",
              "    .dataframe tbody tr th {\n",
              "        vertical-align: top;\n",
              "    }\n",
              "\n",
              "    .dataframe thead th {\n",
              "        text-align: right;\n",
              "    }\n",
              "</style>\n",
              "<table border=\"1\" class=\"dataframe\">\n",
              "  <thead>\n",
              "    <tr style=\"text-align: right;\">\n",
              "      <th></th>\n",
              "      <th>title</th>\n",
              "      <th>context</th>\n",
              "      <th>context_r</th>\n",
              "      <th>title_r</th>\n",
              "    </tr>\n",
              "  </thead>\n",
              "  <tbody>\n",
              "    <tr>\n",
              "      <th>0</th>\n",
              "      <td>17대 제250회 국회본회의 제10차 본회의 개의</td>\n",
              "      <td>의석을 정돈해 주시기 바랍니다.  성원이 되었으므로 제10차 본회의를 개의하겠습니다...</td>\n",
              "      <td>의석을 정돈해 주시기 바랍니다.  성원이 되었으므로 제10차 본회의를 개의하겠습니다...</td>\n",
              "      <td>17대 제250회 국회본회의 제10차 본회의 개의</td>\n",
              "    </tr>\n",
              "    <tr>\n",
              "      <th>1</th>\n",
              "      <td>17대 제250회 국회본회의 제10차 본회의 o 위문금갹출의건(의장 제의)</td>\n",
              "      <td>의사일정에 들어가기 전에 위문금갹출의건을 의결하고자 합니다.  매년 연말이면 우리 ...</td>\n",
              "      <td>의사일정에 들어가기 전에 위문금갹출의건을 의결하고자 합니다.  매년 연말이면 우리 ...</td>\n",
              "      <td>17대 제250회 국회본회의 제10차 본회의 o 위문금갹출의건(의장 제의)</td>\n",
              "    </tr>\n",
              "    <tr>\n",
              "      <th>2</th>\n",
              "      <td>17대 제250회 국회본회의 제10차 본회의 2. 경제에관한질문</td>\n",
              "      <td>의사일정 제2항 경제에관한질문을 상정합니다.   오늘 질문하실 의원은 모두 열여덟 ...</td>\n",
              "      <td>의사일정 제2항 경제에관한질문을 상정합니다.   오늘 질문하실 의원은 모두 열여덟 ...</td>\n",
              "      <td>17대 제250회 국회본회의 제10차 본회의 2. 경제에관한질문</td>\n",
              "    </tr>\n",
              "    <tr>\n",
              "      <th>3</th>\n",
              "      <td>17대 제250회 국회본회의 제10차 본회의 o 의사진행의건</td>\n",
              "      <td>다음 질문이 계속되겠습니다마는, 의사진행발언 신청이 있어서 의사진행발언부터 하도록 ...</td>\n",
              "      <td>다음 질문이 계속되겠습니다마는, 의사진행발언 신청이 있어서 의사진행발언부터 하도록 ...</td>\n",
              "      <td>17대 제250회 국회본회의 제10차 본회의 o 의사진행의건</td>\n",
              "    </tr>\n",
              "    <tr>\n",
              "      <th>4</th>\n",
              "      <td>17대 제250회 국회본회의 제10차 본회의 2. 경제에관한질문(계속)</td>\n",
              "      <td>수고하셨습니다.   다음은 존경하는 이병석 의원 나오셔서 질문해 주십시오. 경북 포...</td>\n",
              "      <td>수고하셨습니다.   다음은 존경하는 이병석 의원 나오셔서 질문해 주십시오. 경북 포...</td>\n",
              "      <td>17대 제250회 국회본회의 제10차 본회의 2. 경제에관한질문(계속)</td>\n",
              "    </tr>\n",
              "    <tr>\n",
              "      <th>...</th>\n",
              "      <td>...</td>\n",
              "      <td>...</td>\n",
              "      <td>...</td>\n",
              "      <td>...</td>\n",
              "    </tr>\n",
              "    <tr>\n",
              "      <th>171</th>\n",
              "      <td>21대 제389회 기획재정위원회 제1차 상임위원회 2. 2021년도 제2회 추가경정...</td>\n",
              "      <td>그러면 다음 의사일정 제2항 기획재정부 소관 2012년도 제2회 추가경정예산안 및 ...</td>\n",
              "      <td>그러면 다음 의사일정 제2항 기획재정부 소관 2012년도 제2회 추가경정예산안 및 ...</td>\n",
              "      <td>21대 제389회 기획재정위원회 제1차 상임위원회 2. 2021년도 제2회 추가경정...</td>\n",
              "    </tr>\n",
              "    <tr>\n",
              "      <th>172</th>\n",
              "      <td>21대 제389회 농림축산식품해양수산위원회 제2차 상임위원회 개의</td>\n",
              "      <td>위원님들, 좌석을 정돈해 주시기 바랍니다. 성원이 되었으므로 제389회 국회(임시회...</td>\n",
              "      <td>위원님들, 좌석을 정돈해 주시기 바랍니다. 성원이 되었으므로 제389회 국회(임시회...</td>\n",
              "      <td>21대 제389회 농림축산식품해양수산위원회 제2차 상임위원회 개의</td>\n",
              "    </tr>\n",
              "    <tr>\n",
              "      <th>173</th>\n",
              "      <td>21대 제389회 농림축산식품해양수산위원회 제2차 상임위원회 1. 2021년도 제2...</td>\n",
              "      <td>의사일정 제1항 농림축산식품부 그리고 해양수산부 소관 2021년도 제2회 추가경정예...</td>\n",
              "      <td>의사일정 제1항 농림축산식품부 그리고 해양수산부 소관 2021년도 제2회 추가경정예...</td>\n",
              "      <td>21대 제389회 농림축산식품해양수산위원회 제2차 상임위원회 1. 2021년도 제2...</td>\n",
              "    </tr>\n",
              "    <tr>\n",
              "      <th>174</th>\n",
              "      <td>21대 제389회 교육위원회 제1차 상임위원회 개의</td>\n",
              "      <td>의석을 정돈해 주시기 바랍니다. 성원이 되었으므로 제389회 국회(임시회) 제1회 ...</td>\n",
              "      <td>의석을 정돈해 주시기 바랍니다. 성원이 되었으므로 제389회 국회(임시회) 제1회 ...</td>\n",
              "      <td>21대 제389회 교육위원회 제1차 상임위원회 개의</td>\n",
              "    </tr>\n",
              "    <tr>\n",
              "      <th>175</th>\n",
              "      <td>21대 제389회 교육위원회 제1차 상임위원회 1. 2021년도 제2회 추가경정예산...</td>\n",
              "      <td>그러면 의사일정 제1항부터 제57항까지 57건의 안건을 일괄 상정합니다. 1항은 잠...</td>\n",
              "      <td>그러면 의사일정 제1항부터 제57항까지 57건의 안건을 일괄 상정합니다. 1항은 잠...</td>\n",
              "      <td>21대 제389회 교육위원회 제1차 상임위원회 1. 2021년도 제2회 추가경정예산...</td>\n",
              "    </tr>\n",
              "  </tbody>\n",
              "</table>\n",
              "<p>176 rows × 4 columns</p>\n",
              "</div>"
            ],
            "text/plain": [
              "                                                 title  ...                                            title_r\n",
              "0                          17대 제250회 국회본회의 제10차 본회의 개의  ...                        17대 제250회 국회본회의 제10차 본회의 개의\n",
              "1            17대 제250회 국회본회의 제10차 본회의 o 위문금갹출의건(의장 제의)  ...          17대 제250회 국회본회의 제10차 본회의 o 위문금갹출의건(의장 제의)\n",
              "2                  17대 제250회 국회본회의 제10차 본회의 2. 경제에관한질문  ...                17대 제250회 국회본회의 제10차 본회의 2. 경제에관한질문\n",
              "3                    17대 제250회 국회본회의 제10차 본회의 o 의사진행의건  ...                  17대 제250회 국회본회의 제10차 본회의 o 의사진행의건\n",
              "4              17대 제250회 국회본회의 제10차 본회의 2. 경제에관한질문(계속)  ...            17대 제250회 국회본회의 제10차 본회의 2. 경제에관한질문(계속)\n",
              "..                                                 ...  ...                                                ...\n",
              "171  21대 제389회 기획재정위원회 제1차 상임위원회 2. 2021년도 제2회 추가경정...  ...  21대 제389회 기획재정위원회 제1차 상임위원회 2. 2021년도 제2회 추가경정...\n",
              "172               21대 제389회 농림축산식품해양수산위원회 제2차 상임위원회 개의  ...               21대 제389회 농림축산식품해양수산위원회 제2차 상임위원회 개의\n",
              "173  21대 제389회 농림축산식품해양수산위원회 제2차 상임위원회 1. 2021년도 제2...  ...  21대 제389회 농림축산식품해양수산위원회 제2차 상임위원회 1. 2021년도 제2...\n",
              "174                       21대 제389회 교육위원회 제1차 상임위원회 개의  ...                       21대 제389회 교육위원회 제1차 상임위원회 개의\n",
              "175  21대 제389회 교육위원회 제1차 상임위원회 1. 2021년도 제2회 추가경정예산...  ...  21대 제389회 교육위원회 제1차 상임위원회 1. 2021년도 제2회 추가경정예산...\n",
              "\n",
              "[176 rows x 4 columns]"
            ]
          },
          "metadata": {},
          "execution_count": 10
        }
      ]
    },
    {
      "cell_type": "code",
      "metadata": {
        "colab": {
          "base_uri": "https://localhost:8080/",
          "height": 419
        },
        "id": "HipzK4S51nkq",
        "outputId": "6fc344ad-0bf9-4a8f-aabc-848644549818"
      },
      "source": [
        "df_k = df_final[['context_r']]\n",
        "df_k.columns = ['context']\n",
        "df_ = pd.concat([df_final[['context']],df_k[['context']]])\n",
        "df_ = df_[~df_.duplicated()].reset_index(drop=True)\n",
        "df_"
      ],
      "execution_count": 25,
      "outputs": [
        {
          "output_type": "execute_result",
          "data": {
            "text/html": [
              "<div>\n",
              "<style scoped>\n",
              "    .dataframe tbody tr th:only-of-type {\n",
              "        vertical-align: middle;\n",
              "    }\n",
              "\n",
              "    .dataframe tbody tr th {\n",
              "        vertical-align: top;\n",
              "    }\n",
              "\n",
              "    .dataframe thead th {\n",
              "        text-align: right;\n",
              "    }\n",
              "</style>\n",
              "<table border=\"1\" class=\"dataframe\">\n",
              "  <thead>\n",
              "    <tr style=\"text-align: right;\">\n",
              "      <th></th>\n",
              "      <th>context</th>\n",
              "    </tr>\n",
              "  </thead>\n",
              "  <tbody>\n",
              "    <tr>\n",
              "      <th>0</th>\n",
              "      <td>의석을 정돈해 주시기 바랍니다.  성원이 되었으므로 제10차 본회의를 개의하겠습니다...</td>\n",
              "    </tr>\n",
              "    <tr>\n",
              "      <th>1</th>\n",
              "      <td>의사일정에 들어가기 전에 위문금갹출의건을 의결하고자 합니다.  매년 연말이면 우리 ...</td>\n",
              "    </tr>\n",
              "    <tr>\n",
              "      <th>2</th>\n",
              "      <td>의사일정 제2항 경제에관한질문을 상정합니다.   오늘 질문하실 의원은 모두 열여덟 ...</td>\n",
              "    </tr>\n",
              "    <tr>\n",
              "      <th>3</th>\n",
              "      <td>다음 질문이 계속되겠습니다마는, 의사진행발언 신청이 있어서 의사진행발언부터 하도록 ...</td>\n",
              "    </tr>\n",
              "    <tr>\n",
              "      <th>4</th>\n",
              "      <td>수고하셨습니다.   다음은 존경하는 이병석 의원 나오셔서 질문해 주십시오. 경북 포...</td>\n",
              "    </tr>\n",
              "    <tr>\n",
              "      <th>...</th>\n",
              "      <td>...</td>\n",
              "    </tr>\n",
              "    <tr>\n",
              "      <th>222</th>\n",
              "      <td>의사일정 제1항 기금관리기본법중개정법률안, 의사일정 제2항 사회간접자본시설에대한민간...</td>\n",
              "    </tr>\n",
              "    <tr>\n",
              "      <th>223</th>\n",
              "      <td>다음은 의사일정 제3항 종합부동산세법, 의사일정 제4항 국세기본법중개정법률안, 의사...</td>\n",
              "    </tr>\n",
              "    <tr>\n",
              "      <th>224</th>\n",
              "      <td>의사일정 제7항 지방교부세법중개정법률안을 상정합니다.   양형일 의원 나오셔서 제안...</td>\n",
              "    </tr>\n",
              "    <tr>\n",
              "      <th>225</th>\n",
              "      <td>의사일정 제8항 정기간행물의등록등에관한법률개정법률안을 상정합니다.  정청래 의원 나...</td>\n",
              "    </tr>\n",
              "    <tr>\n",
              "      <th>226</th>\n",
              "      <td>그러면 다음 의사일정 제2항 기획재정부 소관 2012년도 제2회 추가경정예산안 및 ...</td>\n",
              "    </tr>\n",
              "  </tbody>\n",
              "</table>\n",
              "<p>227 rows × 1 columns</p>\n",
              "</div>"
            ],
            "text/plain": [
              "                                               context\n",
              "0    의석을 정돈해 주시기 바랍니다.  성원이 되었으므로 제10차 본회의를 개의하겠습니다...\n",
              "1    의사일정에 들어가기 전에 위문금갹출의건을 의결하고자 합니다.  매년 연말이면 우리 ...\n",
              "2    의사일정 제2항 경제에관한질문을 상정합니다.   오늘 질문하실 의원은 모두 열여덟 ...\n",
              "3    다음 질문이 계속되겠습니다마는, 의사진행발언 신청이 있어서 의사진행발언부터 하도록 ...\n",
              "4    수고하셨습니다.   다음은 존경하는 이병석 의원 나오셔서 질문해 주십시오. 경북 포...\n",
              "..                                                 ...\n",
              "222  의사일정 제1항 기금관리기본법중개정법률안, 의사일정 제2항 사회간접자본시설에대한민간...\n",
              "223  다음은 의사일정 제3항 종합부동산세법, 의사일정 제4항 국세기본법중개정법률안, 의사...\n",
              "224  의사일정 제7항 지방교부세법중개정법률안을 상정합니다.   양형일 의원 나오셔서 제안...\n",
              "225  의사일정 제8항 정기간행물의등록등에관한법률개정법률안을 상정합니다.  정청래 의원 나...\n",
              "226  그러면 다음 의사일정 제2항 기획재정부 소관 2012년도 제2회 추가경정예산안 및 ...\n",
              "\n",
              "[227 rows x 1 columns]"
            ]
          },
          "metadata": {},
          "execution_count": 25
        }
      ]
    },
    {
      "cell_type": "markdown",
      "metadata": {
        "id": "ikDbC25R1vky"
      },
      "source": [
        "### Split"
      ]
    },
    {
      "cell_type": "code",
      "metadata": {
        "id": "uOBrEiwd1wwz"
      },
      "source": [
        "from transformers import AutoTokenizer\n",
        "tokenizer = AutoTokenizer.from_pretrained(\"hyunwoongko/kobart\")"
      ],
      "execution_count": 16,
      "outputs": []
    },
    {
      "cell_type": "code",
      "metadata": {
        "colab": {
          "base_uri": "https://localhost:8080/"
        },
        "id": "OSodGt1F11Gj",
        "outputId": "0aefa964-ff00-42a7-83e8-d401d4d8a4c0"
      },
      "source": [
        "# 1안 : 3단계로나누어서 구분, 1536개이상은 3개로 나눔 -> 수정 및 리팩토링 필요\n",
        "def split_token(ctx):\n",
        "  ctx = '. ;'.join(ctx.split('. '))\n",
        "  ctx = '? ;'.join(ctx.split('? '))\n",
        "  ctx = [s.strip() for s in ctx.split(';') if s != \"\"]\n",
        "\n",
        "  token_length = [tokenizer.encode(c).__len__() for c in ctx]\n",
        "  if sum(token_length)<512:\n",
        "    return [' '.join(ctx)]\n",
        "\n",
        "  elif sum(token_length)>=512 and sum(token_length)<1024:\n",
        "    l=0\n",
        "    for i in range(len(token_length)):\n",
        "      l += token_length[i]\n",
        "      if l>=512:\n",
        "        break\n",
        "    return [' '.join(ctx[:i])]\n",
        "\n",
        "  elif sum(token_length)>=1024 and sum(token_length)<1536:\n",
        "    l=0\n",
        "    for i in range(len(token_length)):\n",
        "      l += token_length[i]\n",
        "      if l>=512:\n",
        "        break\n",
        "    l=0\n",
        "    for j in range(1,len(token_length)):\n",
        "      l += token_length[-j]\n",
        "      if l>=512:\n",
        "        break\n",
        "    return [' '.join(ctx[:i]),\n",
        "            ' '.join(ctx[-j+1:])]\n",
        "\n",
        "  elif sum(token_length)>=1536:\n",
        "    l=0\n",
        "    temp_index = [0]\n",
        "    for i in range(len(token_length)):\n",
        "      l += token_length[i]\n",
        "      if l>=512:\n",
        "        temp_index.append(i)\n",
        "        l=token_length[i]\n",
        "\n",
        "    l=0\n",
        "    for j in range(1,len(token_length)):\n",
        "      l += token_length[-j]\n",
        "      if l>=512:\n",
        "        break\n",
        "    return_sentence = [' '.join(ctx[temp_index[s]:temp_index[s+1]]) for s in range(len(temp_index)-2)]\n",
        "    return_sentence.extend([' '.join(ctx[-j+1:])])\n",
        "    return return_sentence\n",
        "\n",
        "context_dict = {\"context\":[]}\n",
        "for i in tqdm(range(len(df_))):\n",
        "  context_dict['context'].extend(split_token(df_['context'][i]))"
      ],
      "execution_count": 26,
      "outputs": [
        {
          "output_type": "stream",
          "name": "stderr",
          "text": [
            "100%|██████████| 227/227 [00:04<00:00, 53.46it/s]\n"
          ]
        }
      ]
    },
    {
      "cell_type": "code",
      "metadata": {
        "colab": {
          "base_uri": "https://localhost:8080/",
          "height": 419
        },
        "id": "Gy8uEc8D14RF",
        "outputId": "7e810074-8f98-46ac-deed-a6ddf8c85eec"
      },
      "source": [
        "df = pd.DataFrame(context_dict)\n",
        "df"
      ],
      "execution_count": 33,
      "outputs": [
        {
          "output_type": "execute_result",
          "data": {
            "text/html": [
              "<div>\n",
              "<style scoped>\n",
              "    .dataframe tbody tr th:only-of-type {\n",
              "        vertical-align: middle;\n",
              "    }\n",
              "\n",
              "    .dataframe tbody tr th {\n",
              "        vertical-align: top;\n",
              "    }\n",
              "\n",
              "    .dataframe thead th {\n",
              "        text-align: right;\n",
              "    }\n",
              "</style>\n",
              "<table border=\"1\" class=\"dataframe\">\n",
              "  <thead>\n",
              "    <tr style=\"text-align: right;\">\n",
              "      <th></th>\n",
              "      <th>context</th>\n",
              "    </tr>\n",
              "  </thead>\n",
              "  <tbody>\n",
              "    <tr>\n",
              "      <th>0</th>\n",
              "      <td>의석을 정돈해 주시기 바랍니다. 성원이 되었으므로 제10차 본회의를 개의하겠습니다....</td>\n",
              "    </tr>\n",
              "    <tr>\n",
              "      <th>1</th>\n",
              "      <td>의사일정에 들어가기 전에 위문금갹출의건을 의결하고자 합니다. 매년 연말이면 우리 국...</td>\n",
              "    </tr>\n",
              "    <tr>\n",
              "      <th>2</th>\n",
              "      <td>의사일정 제2항 경제에관한질문을 상정합니다. 오늘 질문하실 의원은 모두 열여덟 분입...</td>\n",
              "    </tr>\n",
              "    <tr>\n",
              "      <th>3</th>\n",
              "      <td>그것은 서로 대안을 제시하고 진지하게 머리를 맞대고 토론하고, 그래서 결론을 도출하...</td>\n",
              "    </tr>\n",
              "    <tr>\n",
              "      <th>4</th>\n",
              "      <td>지금 말씀하신 것처럼 지금 우리 사회는 사회보장 지출, 다음에 SOC 투자 등 재정...</td>\n",
              "    </tr>\n",
              "    <tr>\n",
              "      <th>...</th>\n",
              "      <td>...</td>\n",
              "    </tr>\n",
              "    <tr>\n",
              "      <th>1703</th>\n",
              "      <td>그런데 여기 보니까 19년 하반기 대비 20년 상반기, 이게 빠져 있고 20년 하반...</td>\n",
              "    </tr>\n",
              "    <tr>\n",
              "      <th>1704</th>\n",
              "      <td>이 52시간 근로가 최저임금에 못지 않은 중소기업에 큰 타격이 될 수 있는데 이 부...</td>\n",
              "    </tr>\n",
              "    <tr>\n",
              "      <th>1705</th>\n",
              "      <td>올해 전체적으로 한, 세계경제가 작년도에 선진국들이 워낙 마이너스 5%～10%가 되...</td>\n",
              "    </tr>\n",
              "    <tr>\n",
              "      <th>1706</th>\n",
              "      <td>예, 그러니까 지금…… 외국의 100개 기업이 우리나라에서 내는 세금과 우리 기업이...</td>\n",
              "    </tr>\n",
              "    <tr>\n",
              "      <th>1707</th>\n",
              "      <td>선진국은 대개 다 -5%에서 -10%인데 작년 -1%도 안 되는 0.9 성장했는데 ...</td>\n",
              "    </tr>\n",
              "  </tbody>\n",
              "</table>\n",
              "<p>1708 rows × 1 columns</p>\n",
              "</div>"
            ],
            "text/plain": [
              "                                                context\n",
              "0     의석을 정돈해 주시기 바랍니다. 성원이 되었으므로 제10차 본회의를 개의하겠습니다....\n",
              "1     의사일정에 들어가기 전에 위문금갹출의건을 의결하고자 합니다. 매년 연말이면 우리 국...\n",
              "2     의사일정 제2항 경제에관한질문을 상정합니다. 오늘 질문하실 의원은 모두 열여덟 분입...\n",
              "3     그것은 서로 대안을 제시하고 진지하게 머리를 맞대고 토론하고, 그래서 결론을 도출하...\n",
              "4     지금 말씀하신 것처럼 지금 우리 사회는 사회보장 지출, 다음에 SOC 투자 등 재정...\n",
              "...                                                 ...\n",
              "1703  그런데 여기 보니까 19년 하반기 대비 20년 상반기, 이게 빠져 있고 20년 하반...\n",
              "1704  이 52시간 근로가 최저임금에 못지 않은 중소기업에 큰 타격이 될 수 있는데 이 부...\n",
              "1705  올해 전체적으로 한, 세계경제가 작년도에 선진국들이 워낙 마이너스 5%～10%가 되...\n",
              "1706  예, 그러니까 지금…… 외국의 100개 기업이 우리나라에서 내는 세금과 우리 기업이...\n",
              "1707  선진국은 대개 다 -5%에서 -10%인데 작년 -1%도 안 되는 0.9 성장했는데 ...\n",
              "\n",
              "[1708 rows x 1 columns]"
            ]
          },
          "metadata": {},
          "execution_count": 33
        }
      ]
    },
    {
      "cell_type": "code",
      "metadata": {
        "colab": {
          "base_uri": "https://localhost:8080/",
          "height": 283
        },
        "id": "CwrYL3FG2lr0",
        "outputId": "83bca5ed-3047-420c-a3a5-23b2cdcf0ad4"
      },
      "source": [
        "# 토큰 개수 분포(512개 제한)\n",
        "df['token_len'] = df['context'].apply(lambda x : len(tokenizer.encode(x)))\n",
        "df['token_len'].hist()"
      ],
      "execution_count": 34,
      "outputs": [
        {
          "output_type": "execute_result",
          "data": {
            "text/plain": [
              "<matplotlib.axes._subplots.AxesSubplot at 0x7f2fd954f210>"
            ]
          },
          "metadata": {},
          "execution_count": 34
        },
        {
          "output_type": "display_data",
          "data": {
            "image/png": "[encoded data removed]",
            "text/plain": [
              "<Figure size 432x288 with 1 Axes>"
            ]
          },
          "metadata": {
            "needs_background": "light"
          }
        }
      ]
    },
    {
      "cell_type": "code",
      "metadata": {
        "colab": {
          "base_uri": "https://localhost:8080/",
          "height": 589
        },
        "id": "8K_dO5SO25Xq",
        "outputId": "cdc16085-c274-487d-c4c4-62e2a5e2b6b7"
      },
      "source": [
        "def count_sen(ctx):\n",
        "  ctx = '. ;'.join(ctx.split('. '))\n",
        "  ctx = '? ;'.join(ctx.split('? '))\n",
        "  ctx = [s.strip() for s in ctx.split(';') if s != \"\"]\n",
        "  return len(ctx)\n",
        "  \n",
        "df['sentence_len'] = df['context'].apply(count_sen)\n",
        "df = df[df['sentence_len']>3].reset_index(drop=True)  # 3문장이하 삭제\n",
        "df  "
      ],
      "execution_count": 35,
      "outputs": [
        {
          "output_type": "execute_result",
          "data": {
            "text/html": [
              "<div>\n",
              "<style scoped>\n",
              "    .dataframe tbody tr th:only-of-type {\n",
              "        vertical-align: middle;\n",
              "    }\n",
              "\n",
              "    .dataframe tbody tr th {\n",
              "        vertical-align: top;\n",
              "    }\n",
              "\n",
              "    .dataframe thead th {\n",
              "        text-align: right;\n",
              "    }\n",
              "</style>\n",
              "<table border=\"1\" class=\"dataframe\">\n",
              "  <thead>\n",
              "    <tr style=\"text-align: right;\">\n",
              "      <th></th>\n",
              "      <th>context</th>\n",
              "      <th>token_len</th>\n",
              "      <th>sentence_len</th>\n",
              "    </tr>\n",
              "  </thead>\n",
              "  <tbody>\n",
              "    <tr>\n",
              "      <th>0</th>\n",
              "      <td>의석을 정돈해 주시기 바랍니다. 성원이 되었으므로 제10차 본회의를 개의하겠습니다....</td>\n",
              "      <td>42</td>\n",
              "      <td>4</td>\n",
              "    </tr>\n",
              "    <tr>\n",
              "      <th>1</th>\n",
              "      <td>의사일정에 들어가기 전에 위문금갹출의건을 의결하고자 합니다. 매년 연말이면 우리 국...</td>\n",
              "      <td>498</td>\n",
              "      <td>22</td>\n",
              "    </tr>\n",
              "    <tr>\n",
              "      <th>2</th>\n",
              "      <td>의사일정 제2항 경제에관한질문을 상정합니다. 오늘 질문하실 의원은 모두 열여덟 분입...</td>\n",
              "      <td>498</td>\n",
              "      <td>16</td>\n",
              "    </tr>\n",
              "    <tr>\n",
              "      <th>3</th>\n",
              "      <td>그것은 서로 대안을 제시하고 진지하게 머리를 맞대고 토론하고, 그래서 결론을 도출하...</td>\n",
              "      <td>494</td>\n",
              "      <td>17</td>\n",
              "    </tr>\n",
              "    <tr>\n",
              "      <th>4</th>\n",
              "      <td>지금 말씀하신 것처럼 지금 우리 사회는 사회보장 지출, 다음에 SOC 투자 등 재정...</td>\n",
              "      <td>490</td>\n",
              "      <td>20</td>\n",
              "    </tr>\n",
              "    <tr>\n",
              "      <th>...</th>\n",
              "      <td>...</td>\n",
              "      <td>...</td>\n",
              "      <td>...</td>\n",
              "    </tr>\n",
              "    <tr>\n",
              "      <th>1695</th>\n",
              "      <td>그런데 여기 보니까 19년 하반기 대비 20년 상반기, 이게 빠져 있고 20년 하반...</td>\n",
              "      <td>450</td>\n",
              "      <td>19</td>\n",
              "    </tr>\n",
              "    <tr>\n",
              "      <th>1696</th>\n",
              "      <td>이 52시간 근로가 최저임금에 못지 않은 중소기업에 큰 타격이 될 수 있는데 이 부...</td>\n",
              "      <td>463</td>\n",
              "      <td>21</td>\n",
              "    </tr>\n",
              "    <tr>\n",
              "      <th>1697</th>\n",
              "      <td>올해 전체적으로 한, 세계경제가 작년도에 선진국들이 워낙 마이너스 5%～10%가 되...</td>\n",
              "      <td>476</td>\n",
              "      <td>17</td>\n",
              "    </tr>\n",
              "    <tr>\n",
              "      <th>1698</th>\n",
              "      <td>예, 그러니까 지금…… 외국의 100개 기업이 우리나라에서 내는 세금과 우리 기업이...</td>\n",
              "      <td>494</td>\n",
              "      <td>29</td>\n",
              "    </tr>\n",
              "    <tr>\n",
              "      <th>1699</th>\n",
              "      <td>선진국은 대개 다 -5%에서 -10%인데 작년 -1%도 안 되는 0.9 성장했는데 ...</td>\n",
              "      <td>468</td>\n",
              "      <td>21</td>\n",
              "    </tr>\n",
              "  </tbody>\n",
              "</table>\n",
              "<p>1700 rows × 3 columns</p>\n",
              "</div>"
            ],
            "text/plain": [
              "                                                context  ...  sentence_len\n",
              "0     의석을 정돈해 주시기 바랍니다. 성원이 되었으므로 제10차 본회의를 개의하겠습니다....  ...             4\n",
              "1     의사일정에 들어가기 전에 위문금갹출의건을 의결하고자 합니다. 매년 연말이면 우리 국...  ...            22\n",
              "2     의사일정 제2항 경제에관한질문을 상정합니다. 오늘 질문하실 의원은 모두 열여덟 분입...  ...            16\n",
              "3     그것은 서로 대안을 제시하고 진지하게 머리를 맞대고 토론하고, 그래서 결론을 도출하...  ...            17\n",
              "4     지금 말씀하신 것처럼 지금 우리 사회는 사회보장 지출, 다음에 SOC 투자 등 재정...  ...            20\n",
              "...                                                 ...  ...           ...\n",
              "1695  그런데 여기 보니까 19년 하반기 대비 20년 상반기, 이게 빠져 있고 20년 하반...  ...            19\n",
              "1696  이 52시간 근로가 최저임금에 못지 않은 중소기업에 큰 타격이 될 수 있는데 이 부...  ...            21\n",
              "1697  올해 전체적으로 한, 세계경제가 작년도에 선진국들이 워낙 마이너스 5%～10%가 되...  ...            17\n",
              "1698  예, 그러니까 지금…… 외국의 100개 기업이 우리나라에서 내는 세금과 우리 기업이...  ...            29\n",
              "1699  선진국은 대개 다 -5%에서 -10%인데 작년 -1%도 안 되는 0.9 성장했는데 ...  ...            21\n",
              "\n",
              "[1700 rows x 3 columns]"
            ]
          },
          "metadata": {},
          "execution_count": 35
        }
      ]
    },
    {
      "cell_type": "markdown",
      "metadata": {
        "id": "-XlwAx5q1xOq"
      },
      "source": [
        "# Gap Sentence Generation\n"
      ]
    },
    {
      "cell_type": "markdown",
      "metadata": {
        "id": "U6O9z0_43Nva"
      },
      "source": [
        "### rouge func"
      ]
    },
    {
      "cell_type": "code",
      "metadata": {
        "id": "mnTROfT4z5ND"
      },
      "source": [
        "def recall(test, label, rouge=1):\n",
        "  label_n = []\n",
        "  test_n = []\n",
        "\n",
        "  for i in range(len(test.split(' '))-(rouge-1)):\n",
        "    test_n.append(' '.join([test.split(' ')[i+r] for r in range(rouge)]))\n",
        "  for i in range(len(label.split(' '))-(rouge-1)):\n",
        "    label_n.append(' '.join([label.split(' ')[i+r] for r in range(rouge)]))\n",
        "\n",
        "  total = len(label_n)\n",
        "  match = 0\n",
        "  if total==0 : \n",
        "    print(label_n,label)\n",
        "    return None\n",
        "  for word in label_n:\n",
        "    if word in test_n:\n",
        "      match += 1\n",
        "  return match/total\n",
        "\n",
        "def precision(test, label, rouge=1):\n",
        "  label_n = []\n",
        "  test_n = []\n",
        "\n",
        "  for i in range(len(test.split(' '))-(rouge-1)):\n",
        "    test_n.append(' '.join([test.split(' ')[i+r] for r in range(rouge)]))\n",
        "  for i in range(len(label.split(' '))-(rouge-1)):\n",
        "    label_n.append(' '.join([label.split(' ')[i+r] for r in range(rouge)]))\n",
        "\n",
        "  total = len(test_n)\n",
        "  match = 0\n",
        "\n",
        "  if total==0 : \n",
        "    print(test_n,test)\n",
        "    return None\n",
        "\n",
        "  for word in test_n:\n",
        "    if word in label_n:\n",
        "      match += 1\n",
        "  return match/total\n",
        "\n",
        "def rouge_N(test, label, rouge=1,return_precision_and_recall=False):\n",
        "  prec = precision(test,label,rouge)\n",
        "  recc = recall(test,label,rouge)\n",
        "  if (prec==None) or (recc==None):\n",
        "    if return_precision_and_recall:\n",
        "      return None, None, None\n",
        "    return None\n",
        "\n",
        "  if (prec+recc == 0):\n",
        "    if return_precision_and_recall:\n",
        "      return 0, 0, 0\n",
        "    else :\n",
        "      return 0\n",
        "\n",
        "  f1 = 2*((prec*recc)/(prec+recc))\n",
        "  if return_precision_and_recall:\n",
        "    return f1, prec, recc\n",
        "  else : \n",
        "    return f1\n"
      ],
      "execution_count": 37,
      "outputs": []
    },
    {
      "cell_type": "markdown",
      "metadata": {
        "id": "6q0YMfY73TuL"
      },
      "source": [
        "### top_k func"
      ]
    },
    {
      "cell_type": "code",
      "metadata": {
        "colab": {
          "base_uri": "https://localhost:8080/"
        },
        "id": "ADIP987x3WmK",
        "outputId": "49e0f201-dc40-494c-f612-45225aaf0bef"
      },
      "source": [
        "def get_top_k_sentence(doc:str,\n",
        "                       verbose=False):\n",
        "  docs = '. ;'.join(doc.split('. '))\n",
        "  docs = '? ;'.join(docs.split('? '))\n",
        "  docs = [s.strip() for s in docs.split(';') if s != \"\"]\n",
        "  result = []\n",
        "  \n",
        "  for i in range(len(docs)):\n",
        "    pred = docs.pop(i)\n",
        "    score = rouge_N(pred, ' '.join(docs))\n",
        "    docs.insert(i,pred)\n",
        "    result.append((score,i))\n",
        "\n",
        "  result = sorted(result,reverse=True)\n",
        "  top_k_len = int(len(result)*0.3)\n",
        "  if top_k_len<1 : top_k_len=1\n",
        "  rouge_index = [v[1] for v in result[:top_k_len]]\n",
        "  if verbose:\n",
        "    print(\"입력된 문장의 갯수 :\",len(docs))\n",
        "    print(\"선장된 문장의 갯수 :\",len(rouge_index))\n",
        "  return rouge_index\n",
        "\n",
        "get_top_k_sentence(df.iloc[20]['context'],True)"
      ],
      "execution_count": 38,
      "outputs": [
        {
          "output_type": "stream",
          "name": "stdout",
          "text": [
            "입력된 문장의 갯수 : 24\n",
            "선장된 문장의 갯수 : 7\n"
          ]
        },
        {
          "output_type": "execute_result",
          "data": {
            "text/plain": [
              "[1, 6, 4, 17, 2, 7, 3]"
            ]
          },
          "metadata": {},
          "execution_count": 38
        }
      ]
    },
    {
      "cell_type": "markdown",
      "metadata": {
        "id": "ZuwGEWt-4sVk"
      },
      "source": [
        "### GSG"
      ]
    },
    {
      "cell_type": "code",
      "metadata": {
        "colab": {
          "base_uri": "https://localhost:8080/"
        },
        "id": "cWrg9UjJ3aGU",
        "outputId": "76a014bf-c3df-4a1e-b2ce-7b4543880e8a"
      },
      "source": [
        "from tqdm import tqdm\n",
        "\n",
        "tqdm.pandas()\n",
        "\n",
        "df['rouge_selected'] = df['context'].progress_apply(get_top_k_sentence)"
      ],
      "execution_count": 45,
      "outputs": [
        {
          "output_type": "stream",
          "name": "stderr",
          "text": [
            "100%|██████████| 1700/1700 [04:27<00:00,  6.35it/s]\n"
          ]
        }
      ]
    },
    {
      "cell_type": "code",
      "metadata": {
        "colab": {
          "base_uri": "https://localhost:8080/",
          "height": 589
        },
        "id": "mXuwXFyV4p9C",
        "outputId": "e914fa93-c894-4621-c1ba-aa46b600b430"
      },
      "source": [
        "df"
      ],
      "execution_count": 46,
      "outputs": [
        {
          "output_type": "execute_result",
          "data": {
            "text/html": [
              "<div>\n",
              "<style scoped>\n",
              "    .dataframe tbody tr th:only-of-type {\n",
              "        vertical-align: middle;\n",
              "    }\n",
              "\n",
              "    .dataframe tbody tr th {\n",
              "        vertical-align: top;\n",
              "    }\n",
              "\n",
              "    .dataframe thead th {\n",
              "        text-align: right;\n",
              "    }\n",
              "</style>\n",
              "<table border=\"1\" class=\"dataframe\">\n",
              "  <thead>\n",
              "    <tr style=\"text-align: right;\">\n",
              "      <th></th>\n",
              "      <th>context</th>\n",
              "      <th>token_len</th>\n",
              "      <th>sentence_len</th>\n",
              "      <th>rouge_selected</th>\n",
              "    </tr>\n",
              "  </thead>\n",
              "  <tbody>\n",
              "    <tr>\n",
              "      <th>0</th>\n",
              "      <td>의석을 정돈해 주시기 바랍니다. 성원이 되었으므로 제10차 본회의를 개의하겠습니다....</td>\n",
              "      <td>42</td>\n",
              "      <td>4</td>\n",
              "      <td>[3]</td>\n",
              "    </tr>\n",
              "    <tr>\n",
              "      <th>1</th>\n",
              "      <td>의사일정에 들어가기 전에 위문금갹출의건을 의결하고자 합니다. 매년 연말이면 우리 국...</td>\n",
              "      <td>498</td>\n",
              "      <td>22</td>\n",
              "      <td>[14, 16, 6, 9, 18, 10]</td>\n",
              "    </tr>\n",
              "    <tr>\n",
              "      <th>2</th>\n",
              "      <td>의사일정 제2항 경제에관한질문을 상정합니다. 오늘 질문하실 의원은 모두 열여덟 분입...</td>\n",
              "      <td>498</td>\n",
              "      <td>16</td>\n",
              "      <td>[13, 8, 9, 6]</td>\n",
              "    </tr>\n",
              "    <tr>\n",
              "      <th>3</th>\n",
              "      <td>그것은 서로 대안을 제시하고 진지하게 머리를 맞대고 토론하고, 그래서 결론을 도출하...</td>\n",
              "      <td>494</td>\n",
              "      <td>17</td>\n",
              "      <td>[6, 3, 11, 7, 5]</td>\n",
              "    </tr>\n",
              "    <tr>\n",
              "      <th>4</th>\n",
              "      <td>지금 말씀하신 것처럼 지금 우리 사회는 사회보장 지출, 다음에 SOC 투자 등 재정...</td>\n",
              "      <td>490</td>\n",
              "      <td>20</td>\n",
              "      <td>[12, 14, 16, 11, 15, 4]</td>\n",
              "    </tr>\n",
              "    <tr>\n",
              "      <th>...</th>\n",
              "      <td>...</td>\n",
              "      <td>...</td>\n",
              "      <td>...</td>\n",
              "      <td>...</td>\n",
              "    </tr>\n",
              "    <tr>\n",
              "      <th>1695</th>\n",
              "      <td>그런데 여기 보니까 19년 하반기 대비 20년 상반기, 이게 빠져 있고 20년 하반...</td>\n",
              "      <td>450</td>\n",
              "      <td>19</td>\n",
              "      <td>[3, 5, 0, 8, 4]</td>\n",
              "    </tr>\n",
              "    <tr>\n",
              "      <th>1696</th>\n",
              "      <td>이 52시간 근로가 최저임금에 못지 않은 중소기업에 큰 타격이 될 수 있는데 이 부...</td>\n",
              "      <td>463</td>\n",
              "      <td>21</td>\n",
              "      <td>[0, 6, 5, 2, 4, 3]</td>\n",
              "    </tr>\n",
              "    <tr>\n",
              "      <th>1697</th>\n",
              "      <td>올해 전체적으로 한, 세계경제가 작년도에 선진국들이 워낙 마이너스 5%～10%가 되...</td>\n",
              "      <td>476</td>\n",
              "      <td>17</td>\n",
              "      <td>[15, 10, 9, 11, 14]</td>\n",
              "    </tr>\n",
              "    <tr>\n",
              "      <th>1698</th>\n",
              "      <td>예, 그러니까 지금…… 외국의 100개 기업이 우리나라에서 내는 세금과 우리 기업이...</td>\n",
              "      <td>494</td>\n",
              "      <td>29</td>\n",
              "      <td>[21, 3, 23, 27, 18, 19, 1, 22]</td>\n",
              "    </tr>\n",
              "    <tr>\n",
              "      <th>1699</th>\n",
              "      <td>선진국은 대개 다 -5%에서 -10%인데 작년 -1%도 안 되는 0.9 성장했는데 ...</td>\n",
              "      <td>468</td>\n",
              "      <td>21</td>\n",
              "      <td>[9, 1, 3, 2, 15, 0]</td>\n",
              "    </tr>\n",
              "  </tbody>\n",
              "</table>\n",
              "<p>1700 rows × 4 columns</p>\n",
              "</div>"
            ],
            "text/plain": [
              "                                                context  ...                  rouge_selected\n",
              "0     의석을 정돈해 주시기 바랍니다. 성원이 되었으므로 제10차 본회의를 개의하겠습니다....  ...                             [3]\n",
              "1     의사일정에 들어가기 전에 위문금갹출의건을 의결하고자 합니다. 매년 연말이면 우리 국...  ...          [14, 16, 6, 9, 18, 10]\n",
              "2     의사일정 제2항 경제에관한질문을 상정합니다. 오늘 질문하실 의원은 모두 열여덟 분입...  ...                   [13, 8, 9, 6]\n",
              "3     그것은 서로 대안을 제시하고 진지하게 머리를 맞대고 토론하고, 그래서 결론을 도출하...  ...                [6, 3, 11, 7, 5]\n",
              "4     지금 말씀하신 것처럼 지금 우리 사회는 사회보장 지출, 다음에 SOC 투자 등 재정...  ...         [12, 14, 16, 11, 15, 4]\n",
              "...                                                 ...  ...                             ...\n",
              "1695  그런데 여기 보니까 19년 하반기 대비 20년 상반기, 이게 빠져 있고 20년 하반...  ...                 [3, 5, 0, 8, 4]\n",
              "1696  이 52시간 근로가 최저임금에 못지 않은 중소기업에 큰 타격이 될 수 있는데 이 부...  ...              [0, 6, 5, 2, 4, 3]\n",
              "1697  올해 전체적으로 한, 세계경제가 작년도에 선진국들이 워낙 마이너스 5%～10%가 되...  ...             [15, 10, 9, 11, 14]\n",
              "1698  예, 그러니까 지금…… 외국의 100개 기업이 우리나라에서 내는 세금과 우리 기업이...  ...  [21, 3, 23, 27, 18, 19, 1, 22]\n",
              "1699  선진국은 대개 다 -5%에서 -10%인데 작년 -1%도 안 되는 0.9 성장했는데 ...  ...             [9, 1, 3, 2, 15, 0]\n",
              "\n",
              "[1700 rows x 4 columns]"
            ]
          },
          "metadata": {},
          "execution_count": 46
        }
      ]
    },
    {
      "cell_type": "markdown",
      "metadata": {
        "id": "pIP4Xltw439D"
      },
      "source": [
        "# Training"
      ]
    },
    {
      "cell_type": "markdown",
      "metadata": {
        "id": "dBpudjuQ460z"
      },
      "source": [
        ""
      ]
    },
    {
      "cell_type": "code",
      "metadata": {
        "id": "ZBJdFFyX47hM"
      },
      "source": [
        ""
      ],
      "execution_count": null,
      "outputs": []
    }
  ]
}